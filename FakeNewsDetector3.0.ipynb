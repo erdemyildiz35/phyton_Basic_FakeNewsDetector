{
 "cells": [
  {
   "cell_type": "code",
   "execution_count": 1,
   "id": "8aabdc9e",
   "metadata": {},
   "outputs": [],
   "source": [
    "import pandas as pd\n",
    "import numpy as np\n",
    "import seaborn as sns\n",
    "import matplotlib.pyplot as plt\n",
    "from sklearn.model_selection import train_test_split\n",
    "from sklearn.metrics import accuracy_score, classification_report\n",
    "import re\n",
    "import string\n",
    "\n",
    "# Loading the datasets\n",
    "data_fake = pd.read_csv(\"fake.csv\")\n",
    "data_true = pd.read_csv(\"True.csv\")"
   ]
  },
  {
   "cell_type": "code",
   "execution_count": 2,
   "id": "4a7231fd",
   "metadata": {},
   "outputs": [],
   "source": [
    "# Adding class labels\n",
    "data_fake[\"class\"] = 0\n",
    "data_true[\"class\"] = 1\n",
    "\n",
    "# Removing last 10 entries for manual testing\n",
    "data_fake_manual_testing = data_fake.tail(10)\n",
    "data_true_manual_testing = data_true.tail(10)\n",
    "data_fake = data_fake.iloc[:-10]\n",
    "data_true = data_true.iloc[:-10]"
   ]
  },
  {
   "cell_type": "code",
   "execution_count": 3,
   "id": "59f9c728",
   "metadata": {},
   "outputs": [],
   "source": [
    "\n",
    "# Merging the datasets\n",
    "data_merge = pd.concat([data_fake, data_true], axis=0)"
   ]
  },
  {
   "cell_type": "code",
   "execution_count": 4,
   "id": "3acb5e95",
   "metadata": {},
   "outputs": [],
   "source": [
    "# Dropping unnecessary columns\n",
    "data = data_merge.drop([\"title\", \"subject\", \"date\"], axis=1)"
   ]
  },
  {
   "cell_type": "code",
   "execution_count": 5,
   "id": "e2870624",
   "metadata": {},
   "outputs": [],
   "source": [
    "# Shuffling the data\n",
    "data = data.sample(frac=1).reset_index(drop=True)"
   ]
  },
  {
   "cell_type": "code",
   "execution_count": 6,
   "id": "4ad73a64",
   "metadata": {},
   "outputs": [],
   "source": [
    "# Text preprocessing function\n",
    "def wordopt(text):\n",
    "    text = text.lower()\n",
    "    text = re.sub('\\[.*?\\]', '', text)\n",
    "    text = re.sub(\"\\\\W\", \" \", text)\n",
    "    text = re.sub(\"https?://\\S+|www\\S+\", \"\", text)\n",
    "    text = re.sub(\"<.*?>+\", \"\", text)\n",
    "    text = re.sub('[%s]' % re.escape(string.punctuation), '', text)\n",
    "    text = re.sub(\"\\n\", \"\", text)\n",
    "    text = re.sub(\"\\w*\\d\\w*\", \"\", text)\n",
    "    return text"
   ]
  },
  {
   "cell_type": "code",
   "execution_count": 7,
   "id": "fcc5d0c6",
   "metadata": {},
   "outputs": [],
   "source": [
    "\n",
    "# Applying text preprocessing\n",
    "data['text'] = data['text'].apply(wordopt)\n",
    "\n",
    "# Splitting the data\n",
    "x = data['text']\n",
    "y = data['class']\n",
    "x_train, x_test, y_train, y_test = train_test_split(x, y, test_size=0.25, random_state=0)\n"
   ]
  },
  {
   "cell_type": "code",
   "execution_count": 8,
   "id": "8e082c46",
   "metadata": {},
   "outputs": [],
   "source": [
    "\n",
    "# Vectorization\n",
    "from sklearn.feature_extraction.text import TfidfVectorizer\n",
    "vectorization = TfidfVectorizer()\n",
    "xv_train = vectorization.fit_transform(x_train)\n",
    "xv_test = vectorization.transform(x_test)"
   ]
  },
  {
   "cell_type": "code",
   "execution_count": 9,
   "id": "b5622e28",
   "metadata": {},
   "outputs": [
    {
     "ename": "ModuleNotFoundError",
     "evalue": "No module named 'xgboost'",
     "output_type": "error",
     "traceback": [
      "\u001b[1;31m---------------------------------------------------------------------------\u001b[0m",
      "\u001b[1;31mModuleNotFoundError\u001b[0m                       Traceback (most recent call last)",
      "Cell \u001b[1;32mIn[9], line 9\u001b[0m\n\u001b[0;32m      7\u001b[0m \u001b[38;5;28;01mfrom\u001b[39;00m \u001b[38;5;21;01msklearn\u001b[39;00m\u001b[38;5;21;01m.\u001b[39;00m\u001b[38;5;21;01mneighbors\u001b[39;00m \u001b[38;5;28;01mimport\u001b[39;00m KNeighborsClassifier\n\u001b[0;32m      8\u001b[0m \u001b[38;5;28;01mfrom\u001b[39;00m \u001b[38;5;21;01msklearn\u001b[39;00m\u001b[38;5;21;01m.\u001b[39;00m\u001b[38;5;21;01mdiscriminant_analysis\u001b[39;00m \u001b[38;5;28;01mimport\u001b[39;00m LinearDiscriminantAnalysis, QuadraticDiscriminantAnalysis\n\u001b[1;32m----> 9\u001b[0m \u001b[38;5;28;01mfrom\u001b[39;00m \u001b[38;5;21;01mxgboost\u001b[39;00m \u001b[38;5;28;01mimport\u001b[39;00m XGBClassifier\n",
      "\u001b[1;31mModuleNotFoundError\u001b[0m: No module named 'xgboost'"
     ]
    }
   ],
   "source": [
    "\n",
    "# List of models to evaluate\n",
    "from sklearn.linear_model import LogisticRegression, PassiveAggressiveClassifier, Perceptron\n",
    "from sklearn.tree import DecisionTreeClassifier\n",
    "from sklearn.ensemble import GradientBoostingClassifier, RandomForestClassifier, AdaBoostClassifier, ExtraTreesClassifier, BaggingClassifier, VotingClassifier\n",
    "from sklearn.svm import SVC\n",
    "from sklearn.naive_bayes import MultinomialNB\n",
    "from sklearn.neighbors import KNeighborsClassifier\n",
    "from sklearn.discriminant_analysis import LinearDiscriminantAnalysis, QuadraticDiscriminantAnalysis\n",
    "from xgboost import XGBClassifier\n"
   ]
  },
  {
   "cell_type": "code",
   "execution_count": null,
   "id": "936cff0e",
   "metadata": {},
   "outputs": [],
   "source": [
    "models = [\n",
    "    ('Logistic Regression', LogisticRegression()),\n",
    "    ('Decision Tree', DecisionTreeClassifier()),\n",
    "    ('Gradient Boosting', GradientBoostingClassifier(random_state=0)),\n",
    "    ('Random Forest', RandomForestClassifier(random_state=0)),\n",
    "    ('Support Vector Machine', SVC(kernel='linear')),\n",
    "    ('Naive Bayes', MultinomialNB()),\n",
    "    ('K-Nearest Neighbors', KNeighborsClassifier()),\n",
    "    ('AdaBoost', AdaBoostClassifier(random_state=0)),\n",
    "    ('Extra Trees', ExtraTreesClassifier(random_state=0)),\n",
    "    ('Linear Discriminant Analysis', LinearDiscriminantAnalysis()),\n",
    "    ('Quadratic Discriminant Analysis', QuadraticDiscriminantAnalysis()),\n",
    "    ('XGBoost', XGBClassifier(random_state=0)),\n",
    "    ('Passive Aggressive', PassiveAggressiveClassifier(random_state=0)),\n",
    "    ('Bagging', BaggingClassifier(random_state=0)),\n",
    "    ('Perceptron', Perceptron(random_state=0))"
   ]
  },
  {
   "cell_type": "code",
   "execution_count": null,
   "id": "23a226f8",
   "metadata": {},
   "outputs": [],
   "source": [
    "# Evaluating each model\n",
    "results = {}\n",
    "for name, model in models:\n",
    "    model.fit(xv_train, y_train)\n",
    "    pred = model.predict(xv_test)\n",
    "    accuracy = accuracy_score(y_test, pred)\n",
    "    results[name] = accuracy\n",
    "    print(f\"{name} Accuracy: {accuracy}\")\n",
    "    print(classification_report(y_test, pred))"
   ]
  },
  {
   "cell_type": "code",
   "execution_count": null,
   "id": "9d24cd2a",
   "metadata": {},
   "outputs": [],
   "source": [
    "\n",
    "# Selecting the top 5 models\n",
    "top_models = sorted(results.items(), key=lambda item: item[1], reverse=True)[:5]\n",
    "top_model_names = [model[0] for model in top_models]"
   ]
  },
  {
   "cell_type": "code",
   "execution_count": null,
   "id": "05d825ab",
   "metadata": {},
   "outputs": [],
   "source": [
    "\n",
    "# Creating a Voting Classifier with the top 5 models\n",
    "voting_estimators = [(name, dict(models)[name]) for name in top_model_names]\n",
    "voting_clf = VotingClassifier(estimators=voting_estimators, voting='hard')\n",
    "voting_clf.fit(xv_train, y_train)\n",
    "pred_voting = voting_clf.predict(xv_test)\n",
    "print(\"Voting Classifier Accuracy:\", voting_clf.score(xv_test, y_test))\n",
    "print(classification_report(y_test, pred_voting))\n"
   ]
  },
  {
   "cell_type": "code",
   "execution_count": null,
   "id": "0000bb4a",
   "metadata": {},
   "outputs": [],
   "source": [
    "# Manual testing function\n",
    "def output_label(n):\n",
    "    return 'Fake News' if n == 0 else 'True News'"
   ]
  },
  {
   "cell_type": "code",
   "execution_count": null,
   "id": "dac6068d",
   "metadata": {},
   "outputs": [],
   "source": [
    "\n",
    "def manual_testing(news):\n",
    "    testing_news = {\"text\": [news]}\n",
    "    new_def_test = pd.DataFrame(testing_news)\n",
    "    new_def_test['text'] = new_def_test['text'].apply(wordopt)\n",
    "    new_x_test = new_def_test['text']\n",
    "    new_xv_test = vectorization.transform(new_x_test)\n",
    "    \n",
    "    pred_voting = voting_clf.predict(new_xv_test)\n",
    "    \n",
    "    print(f\"Voting Classifier prediction: {output_label(pred_voting[0])}\")"
   ]
  },
  {
   "cell_type": "code",
   "execution_count": null,
   "id": "93073383",
   "metadata": {},
   "outputs": [],
   "source": [
    "# Test the manual testing function\n",
    "manual_testing(\"Your sample news text goes here\")"
   ]
  },
  {
   "cell_type": "code",
   "execution_count": null,
   "id": "ed62505f",
   "metadata": {},
   "outputs": [],
   "source": []
  },
  {
   "cell_type": "code",
   "execution_count": null,
   "id": "da49e9f0",
   "metadata": {},
   "outputs": [],
   "source": []
  }
 ],
 "metadata": {
  "kernelspec": {
   "display_name": "Python 3 (ipykernel)",
   "language": "python",
   "name": "python3"
  },
  "language_info": {
   "codemirror_mode": {
    "name": "ipython",
    "version": 3
   },
   "file_extension": ".py",
   "mimetype": "text/x-python",
   "name": "python",
   "nbconvert_exporter": "python",
   "pygments_lexer": "ipython3",
   "version": "3.11.7"
  }
 },
 "nbformat": 4,
 "nbformat_minor": 5
}
